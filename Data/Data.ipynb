{
 "cells": [
  {
   "cell_type": "code",
   "execution_count": null,
   "metadata": {
    "vscode": {
     "languageId": "plaintext"
    }
   },
   "outputs": [],
   "source": [
    "import os\n",
    "import requests\n",
    "import zipfile\n",
    "\n",
    "def download_file(url, save_path):\n",
    "    response = requests.get(url, stream=True)\n",
    "    with open(save_path, 'wb') as file:\n",
    "        for chunk in response.iter_content(chunk_size=8192):\n",
    "            file.write(chunk)\n",
    "    print(f\"Downloaded file saved at {save_path}\")\n",
    "\n",
    "def unzip_file(zip_path, extract_to):\n",
    "    with zipfile.ZipFile(zip_path, 'r') as zip_ref:\n",
    "        zip_ref.extractall(extract_to)\n",
    "    print(f\"Unzipped files to {extract_to}\")\n",
    "    os.remove(zip_path)\n",
    "    print(f\"Deleted zip file at {zip_path}\")\n",
    "\n",
    "def main():\n",
    "    url = 'https://figshare.com/ndownloader/files/48018562'\n",
    "    download_path = 'downloaded_file.zip'\n",
    "\n",
    "    download_file(url, download_path)\n",
    "    unzip_file(download_path, os.getcwd())\n",
    "\n",
    "if __name__ == '__main__':\n",
    "    main()"
   ]
  }
 ],
 "metadata": {
  "language_info": {
   "name": "python"
  }
 },
 "nbformat": 4,
 "nbformat_minor": 2
}
